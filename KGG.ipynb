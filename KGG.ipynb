{
  "nbformat": 4,
  "nbformat_minor": 0,
  "metadata": {
    "colab": {
      "provenance": [],
      "include_colab_link": true
    },
    "kernelspec": {
      "name": "python3",
      "display_name": "Python 3"
    },
    "language_info": {
      "name": "python"
    }
  },
  "cells": [
    {
      "cell_type": "markdown",
      "metadata": {
        "id": "view-in-github",
        "colab_type": "text"
      },
      "source": [
        "<a href=\"https://colab.research.google.com/github/coderuhaan2004/KnowledgeGraphGenerator/blob/main/KGG.ipynb\" target=\"_parent\"><img src=\"https://colab.research.google.com/assets/colab-badge.svg\" alt=\"Open In Colab\"/></a>"
      ]
    },
    {
      "cell_type": "markdown",
      "source": [
        "Make sure to run this colab on T4 runtime."
      ],
      "metadata": {
        "id": "s2_uJs2x9rWa"
      }
    },
    {
      "cell_type": "markdown",
      "source": [
        "Install necessary libraries by importing ```requirements.txt``` file in google colab from repository."
      ],
      "metadata": {
        "id": "wn29-3y09JNk"
      }
    },
    {
      "cell_type": "code",
      "source": [
        "!pip install -r requirements.txt"
      ],
      "metadata": {
        "id": "FtVTGrZO9EbR"
      },
      "execution_count": null,
      "outputs": []
    },
    {
      "cell_type": "markdown",
      "source": [
        "Run the below cell to import all necessary libraries"
      ],
      "metadata": {
        "id": "jkWUICie5F-3"
      }
    },
    {
      "cell_type": "code",
      "source": [
        "import json\n",
        "import torch\n",
        "from transformers import AutoTokenizer, AutoModelForCausalLM, BitsAndBytesConfig\n",
        "from IPython.display import HTML, display\n",
        "from google.colab import output\n",
        "from pyvis.network import Network"
      ],
      "metadata": {
        "id": "ecRTakM944R0"
      },
      "execution_count": null,
      "outputs": []
    },
    {
      "cell_type": "markdown",
      "source": [
        "Run the below cell to import open-orca model."
      ],
      "metadata": {
        "id": "VxjpcoJb4-Ow"
      }
    },
    {
      "cell_type": "code",
      "source": [
        "bnb_config = BitsAndBytesConfig(\n",
        "    load_in_4bit=True,\n",
        "    #Quant type\n",
        "    #We will use the \"nf4\" format this was introduced in the QLoRA paper\n",
        "    bnb_4bit_quant_type=\"nf4\",\n",
        "    #As the model weights are stored using 4 bits and when we want to compute its only going to use 16 bits so we have more accuracy\n",
        "    bnb_4bit_compute_dtype=torch.float16,\n",
        "    #Quantization parameters are quantized\n",
        "    bnb_4bit_use_double_quant=True,\n",
        ")\n",
        "\n",
        "model_name = \"Open-Orca/Mistral-7B-OpenOrca\"\n",
        "model = AutoModelForCausalLM.from_pretrained(model_name,\n",
        "                                             quantization_config=bnb_config,\n",
        "                                             )\n",
        "model.config.use_cache = False\n",
        "model.config.pretraining_tp = 1\n",
        "tokenizer = AutoTokenizer.from_pretrained(model_name)"
      ],
      "metadata": {
        "id": "DWY7fliU4qbn"
      },
      "execution_count": null,
      "outputs": []
    },
    {
      "cell_type": "markdown",
      "source": [
        "Run the cell below to view UI for text and wait for some time for result."
      ],
      "metadata": {
        "id": "aGPLWQdx4hUq"
      }
    },
    {
      "cell_type": "code",
      "execution_count": null,
      "metadata": {
        "id": "vlgYHLmA4eEa"
      },
      "outputs": [],
      "source": [
        "html_content = '''\n",
        "<div id=\"knowledge-graph-generator\" style=\"width: 100%; height: 600px; background-color: #f0f0f0; padding: 20px; border-radius: 10px;\">\n",
        "    <style>\n",
        "    @import url('https://fonts.googleapis.com/css2?family=Roboto:ital,wght@0,100;0,300;0,400;0,500;0,700;0,900;1,100;1,300;1,400;1,500;1,700;1,900&display=swap');\n",
        "\n",
        "    #knowledge-graph-generator {\n",
        "        font-family: \"Roboto\", monospace;\n",
        "        display: flex;\n",
        "        flex-direction: column;\n",
        "    }\n",
        "\n",
        "    .header {\n",
        "        display: flex;\n",
        "        justify-content: center;\n",
        "        align-items: center;\n",
        "        font-size: 2.5rem;\n",
        "        font-weight: 500;\n",
        "        margin-bottom: 20px;\n",
        "    }\n",
        "\n",
        "    .main {\n",
        "        flex-grow: 1;\n",
        "        background-color: #080808;\n",
        "        padding: 30px;\n",
        "        border-radius: 10px;\n",
        "        display: flex;\n",
        "        flex-direction: column;\n",
        "        justify-content: space-between;\n",
        "    }\n",
        "\n",
        "    .text {\n",
        "        color: white;\n",
        "        font-size: 2.5vh;\n",
        "        font-weight: 100;\n",
        "        margin-bottom: 30px;\n",
        "    }\n",
        "\n",
        "    .bar {\n",
        "        background-color: white;\n",
        "        padding: 10px 15px;\n",
        "        border-radius: 25px;\n",
        "        display: flex;\n",
        "        align-items: center;\n",
        "        height: 50px;\n",
        "    }\n",
        "\n",
        "    .bar input {\n",
        "        flex-grow: 1;\n",
        "        height: 100%;\n",
        "        border: none;\n",
        "        font-size: 18px;\n",
        "        padding: 0 10px;\n",
        "        outline: none;\n",
        "    }\n",
        "\n",
        "    .bar button {\n",
        "        background: none;\n",
        "        border: none;\n",
        "        cursor: pointer;\n",
        "    }\n",
        "\n",
        "    .bar img {\n",
        "        width: 30px;\n",
        "        height: auto;\n",
        "    }\n",
        "    </style>\n",
        "    <header class=\"header\">\n",
        "        <div>Knowledge Graph Generator</div>\n",
        "    </header>\n",
        "\n",
        "    <main class=\"main\">\n",
        "        <div class=\"text\">\n",
        "            <div class=\"static\">\n",
        "                We give information,\n",
        "            </div>\n",
        "            <div class=\"moving\">\n",
        "                worth <span class=\"move\"></span>\n",
        "            </div>\n",
        "        </div>\n",
        "        <div class=\"bar\">\n",
        "            <input type=\"text\" id=\"search\" placeholder=\"Search\" aria-label=\"search\">\n",
        "            <button id=\"btn\"><img src=\"https://img.icons8.com/ios-filled/50/000000/search--v1.png\" alt=\"Search\"></button>\n",
        "        </div>\n",
        "    </main>\n",
        "</div>\n",
        "\n",
        "<script src=\"https://unpkg.com/typed.js@2.1.0/dist/typed.umd.js\"></script>\n",
        "<script>\n",
        "var typed = new Typed(\".move\", {\n",
        "    strings: [\"reading\", \"exploring\", \"understanding\"],\n",
        "    typeSpeed: 70,\n",
        "    backSpeed: 60,\n",
        "    loop: true\n",
        "});\n",
        "\n",
        "document.getElementById('btn').addEventListener('click', function() {\n",
        "    var text = document.getElementById('search').value;\n",
        "    console.log('input text', text);\n",
        "    google.colab.kernel.invokeFunction('notebook.generate_knowledge_graph', [text], {});\n",
        "});\n",
        "</script>\n",
        "'''\n",
        "def getprompt(text):\n",
        "    SYS_PROMPT = \"You are an AI assistant tasked with extracting structured information from the context to create a knowledge graph. Your goal is to identify key entities and their relationships in the context and present this information in a JSON format with fields: 'node1', 'node2', and 'relationship'.\"\n",
        "    USER_PROMPT = f\"context: ```{text}``` \\n\\n output: \"\n",
        "\n",
        "    PROMPT = f\"{SYS_PROMPT}\\n\\n{USER_PROMPT}\"\n",
        "    return PROMPT\n",
        "def function(text):\n",
        "    prompt = getprompt(text)\n",
        "    inputs = tokenizer.encode(prompt, return_tensors=\"pt\")\n",
        "    outputs = model.generate(inputs, max_length = 1024, num_return_sequences=1)\n",
        "    response = tokenizer.decode(outputs[0], skip_special_tokens=True)\n",
        "    json_response = response.split(\"[\")[1].split(\"]\")[0]\n",
        "    json_response = \"[\\n\" + json_response+\"]\"\n",
        "    json_response = json.loads(json_response)\n",
        "    return json_response\n",
        "\n",
        "def generate_knowledge_graph(text):\n",
        "    data = function(text)\n",
        "    net = Network(notebook=True, directed=True,cdn_resources='remote')\n",
        "    for relation in data:\n",
        "        net.add_node(relation['node1'], label=relation['node1'], title=relation['node1'])\n",
        "        net.add_node(relation['node2'], label=relation['node2'], title=relation['node2'])\n",
        "        net.add_edge(relation['node1'], relation['node2'], title=relation['relationship'],label = relation['relationship'])\n",
        "    net.repulsion(node_distance=180, spring_length=100)\n",
        "    return net.generate_html()\n",
        "\n",
        "# Register the Python function to be callable from JavaScript\n",
        "output.register_callback('notebook.generate_knowledge_graph', lambda s: display(HTML(generate_knowledge_graph(s))))\n",
        "\n",
        "# Display the HTML\n",
        "display(HTML(html_content))\n",
        "\n",
        "print(\"The Knowledge Graph Generator is now displayed above.\")\n",
        "print(\"You can interact with it and see the results in this notebook.\")"
      ]
    }
  ]
}